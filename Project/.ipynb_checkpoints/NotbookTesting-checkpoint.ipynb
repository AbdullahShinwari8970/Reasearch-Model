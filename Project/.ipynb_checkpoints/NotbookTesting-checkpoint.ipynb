{
 "cells": [
  {
   "cell_type": "code",
   "execution_count": 1,
   "id": "629a7470",
   "metadata": {},
   "outputs": [
    {
     "data": {
      "text/html": [
       "<div>\n",
       "<style scoped>\n",
       "    .dataframe tbody tr th:only-of-type {\n",
       "        vertical-align: middle;\n",
       "    }\n",
       "\n",
       "    .dataframe tbody tr th {\n",
       "        vertical-align: top;\n",
       "    }\n",
       "\n",
       "    .dataframe thead th {\n",
       "        text-align: right;\n",
       "    }\n",
       "</style>\n",
       "<table border=\"1\" class=\"dataframe\">\n",
       "  <thead>\n",
       "    <tr style=\"text-align: right;\">\n",
       "      <th></th>\n",
       "      <th>Hidden Units</th>\n",
       "      <th>Learning Rate</th>\n",
       "      <th>Error</th>\n",
       "    </tr>\n",
       "  </thead>\n",
       "  <tbody>\n",
       "    <tr>\n",
       "      <th>0</th>\n",
       "      <td>2</td>\n",
       "      <td>0.01</td>\n",
       "      <td>1.000000</td>\n",
       "    </tr>\n",
       "    <tr>\n",
       "      <th>1</th>\n",
       "      <td>2</td>\n",
       "      <td>0.10</td>\n",
       "      <td>1.000000</td>\n",
       "    </tr>\n",
       "    <tr>\n",
       "      <th>2</th>\n",
       "      <td>2</td>\n",
       "      <td>0.50</td>\n",
       "      <td>1.000002</td>\n",
       "    </tr>\n",
       "    <tr>\n",
       "      <th>3</th>\n",
       "      <td>2</td>\n",
       "      <td>1.00</td>\n",
       "      <td>1.000000</td>\n",
       "    </tr>\n",
       "    <tr>\n",
       "      <th>4</th>\n",
       "      <td>5</td>\n",
       "      <td>0.01</td>\n",
       "      <td>0.999998</td>\n",
       "    </tr>\n",
       "  </tbody>\n",
       "</table>\n",
       "</div>"
      ],
      "text/plain": [
       "   Hidden Units  Learning Rate     Error\n",
       "0             2           0.01  1.000000\n",
       "1             2           0.10  1.000000\n",
       "2             2           0.50  1.000002\n",
       "3             2           1.00  1.000000\n",
       "4             5           0.01  0.999998"
      ]
     },
     "execution_count": 1,
     "metadata": {},
     "output_type": "execute_result"
    }
   ],
   "source": [
    "import pandas as pd\n",
    "\n",
    "data = pd.read_csv('hyperparameter_errors.csv')\n",
    "\n",
    "data.head()"
   ]
  },
  {
   "cell_type": "code",
   "execution_count": 2,
   "id": "7be99802",
   "metadata": {},
   "outputs": [
    {
     "name": "stdout",
     "output_type": "stream",
     "text": [
      "    Hidden Units  Learning Rate     Error\n",
      "0              2           0.01  1.000000\n",
      "1              2           0.10  1.000000\n",
      "2              2           0.50  1.000002\n",
      "3              2           1.00  1.000000\n",
      "4              5           0.01  0.999998\n",
      "5              5           0.10  1.000003\n",
      "6              5           0.50  0.999965\n",
      "7              5           1.00  0.262326\n",
      "8             10           0.01  1.000023\n",
      "9             10           0.10  1.000002\n",
      "10            10           0.50  0.999976\n",
      "11            10           1.00  0.257365\n",
      "12            20           0.01  0.999989\n",
      "13            20           0.10  0.999986\n",
      "14            20           0.50  0.999933\n",
      "15            20           1.00  0.255085\n",
      "16            50           0.01  1.000077\n",
      "17            50           0.10  0.999947\n",
      "18            50           0.50  0.326900\n",
      "19            50           1.00  0.255071\n"
     ]
    }
   ],
   "source": [
    "print(data)"
   ]
  },
  {
   "cell_type": "code",
   "execution_count": 3,
   "id": "ee1739b1",
   "metadata": {},
   "outputs": [
    {
     "data": {
      "text/html": [
       "<div>\n",
       "<style scoped>\n",
       "    .dataframe tbody tr th:only-of-type {\n",
       "        vertical-align: middle;\n",
       "    }\n",
       "\n",
       "    .dataframe tbody tr th {\n",
       "        vertical-align: top;\n",
       "    }\n",
       "\n",
       "    .dataframe thead th {\n",
       "        text-align: right;\n",
       "    }\n",
       "</style>\n",
       "<table border=\"1\" class=\"dataframe\">\n",
       "  <thead>\n",
       "    <tr style=\"text-align: right;\">\n",
       "      <th>Learning Rate</th>\n",
       "      <th>0.01</th>\n",
       "      <th>0.10</th>\n",
       "      <th>0.50</th>\n",
       "      <th>1.00</th>\n",
       "    </tr>\n",
       "    <tr>\n",
       "      <th>Hidden Units</th>\n",
       "      <th></th>\n",
       "      <th></th>\n",
       "      <th></th>\n",
       "      <th></th>\n",
       "    </tr>\n",
       "  </thead>\n",
       "  <tbody>\n",
       "    <tr>\n",
       "      <th>2</th>\n",
       "      <td>1.000000</td>\n",
       "      <td>1.000000</td>\n",
       "      <td>1.000002</td>\n",
       "      <td>1.000000</td>\n",
       "    </tr>\n",
       "    <tr>\n",
       "      <th>5</th>\n",
       "      <td>0.999998</td>\n",
       "      <td>1.000003</td>\n",
       "      <td>0.999965</td>\n",
       "      <td>0.262326</td>\n",
       "    </tr>\n",
       "    <tr>\n",
       "      <th>10</th>\n",
       "      <td>1.000023</td>\n",
       "      <td>1.000002</td>\n",
       "      <td>0.999976</td>\n",
       "      <td>0.257365</td>\n",
       "    </tr>\n",
       "    <tr>\n",
       "      <th>20</th>\n",
       "      <td>0.999989</td>\n",
       "      <td>0.999986</td>\n",
       "      <td>0.999933</td>\n",
       "      <td>0.255085</td>\n",
       "    </tr>\n",
       "    <tr>\n",
       "      <th>50</th>\n",
       "      <td>1.000077</td>\n",
       "      <td>0.999947</td>\n",
       "      <td>0.326900</td>\n",
       "      <td>0.255071</td>\n",
       "    </tr>\n",
       "  </tbody>\n",
       "</table>\n",
       "</div>"
      ],
      "text/plain": [
       "Learning Rate      0.01      0.10      0.50      1.00\n",
       "Hidden Units                                         \n",
       "2              1.000000  1.000000  1.000002  1.000000\n",
       "5              0.999998  1.000003  0.999965  0.262326\n",
       "10             1.000023  1.000002  0.999976  0.257365\n",
       "20             0.999989  0.999986  0.999933  0.255085\n",
       "50             1.000077  0.999947  0.326900  0.255071"
      ]
     },
     "execution_count": 3,
     "metadata": {},
     "output_type": "execute_result"
    }
   ],
   "source": [
    "pivot_data = data.pivot(index='Hidden Units', columns='Learning Rate', values='Error')\n",
    "pivot_data\n"
   ]
  },
  {
   "cell_type": "code",
   "execution_count": 5,
   "id": "0bbcc3ec",
   "metadata": {},
   "outputs": [
    {
     "data": {
      "image/png": "[encoded data removed]",
      "text/plain": [
       "<Figure size 1000x600 with 2 Axes>"
      ]
     },
     "metadata": {},
     "output_type": "display_data"
    }
   ],
   "source": [
    "import seaborn as sns\n",
    "import matplotlib.pyplot as plt\n",
    "\n",
    "plt.figure(figsize=(10, 6))\n",
    "sns.heatmap(pivot_data, annot=True, cmap=\"coolwarm\", fmt=\".3f\", cbar_kws={'label': 'Error'})\n",
    "plt.title('Hyperparameter Tuning Heatmap (XOR)')\n",
    "plt.xlabel('Learning Rate')\n",
    "plt.ylabel('Hidden Units')\n",
    "plt.show()"
   ]
  },
  {
   "cell_type": "markdown",
   "id": "3b5d92b2",
   "metadata": {},
   "source": [
    "# Explanation\n",
    "-The above is a Heatmap for Errors on diffrent Hidden Units Sizes to Diffrent Learning rate combination across 1000 EPOCHS."
   ]
  },
  {
   "cell_type": "code",
   "execution_count": null,
   "id": "dc1d99dc",
   "metadata": {},
   "outputs": [],
   "source": []
  }
 ],
 "metadata": {
  "kernelspec": {
   "display_name": "Python 3 (ipykernel)",
   "language": "python",
   "name": "python3"
  },
  "language_info": {
   "codemirror_mode": {
    "name": "ipython",
    "version": 3
   },
   "file_extension": ".py",
   "mimetype": "text/x-python",
   "name": "python",
   "nbconvert_exporter": "python",
   "pygments_lexer": "ipython3",
   "version": "3.10.9"
  }
 },
 "nbformat": 4,
 "nbformat_minor": 5
}
